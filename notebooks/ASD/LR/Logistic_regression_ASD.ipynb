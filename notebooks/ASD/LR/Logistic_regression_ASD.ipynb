{
  "nbformat": 4,
  "nbformat_minor": 0,
  "metadata": {
    "colab": {
      "provenance": [],
      "toc_visible": true
    },
    "kernelspec": {
      "name": "python3",
      "display_name": "Python 3"
    },
    "language_info": {
      "name": "python"
    }
  },
  "cells": [
    {
      "cell_type": "code",
      "source": [
        "import matplotlib.pyplot as plt\n",
        "import seaborn as sns\n",
        "import pandas as pd\n",
        "from google.colab import drive\n",
        "import numpy as np\n",
        "from scipy import stats\n",
        "from scipy.stats import skew\n",
        "from sklearn.preprocessing import MinMaxScaler\n",
        "from sklearn.preprocessing import OneHotEncoder\n",
        "from sklearn.preprocessing import LabelEncoder\n",
        "from sklearn.preprocessing import StandardScaler"
      ],
      "metadata": {
        "id": "q0YRNSWZBHOY"
      },
      "execution_count": 1,
      "outputs": []
    },
    {
      "cell_type": "code",
      "execution_count": 2,
      "metadata": {
        "colab": {
          "base_uri": "https://localhost:8080/"
        },
        "id": "Tq9g1PYl3Lf8",
        "outputId": "bf2e89ac-e702-453b-cacf-8127a860dca9"
      },
      "outputs": [
        {
          "output_type": "stream",
          "name": "stdout",
          "text": [
            "Mounted at /content/drive\n"
          ]
        }
      ],
      "source": [
        "drive.mount('/content/drive')"
      ]
    },
    {
      "cell_type": "code",
      "source": [
        "file_path = \"/content/drive/MyDrive/Colab Notebooks/data/asd_data.csv\"\n",
        "df = pd.read_csv(file_path)"
      ],
      "metadata": {
        "id": "zwHiJAKN4bZV"
      },
      "execution_count": 3,
      "outputs": []
    },
    {
      "cell_type": "code",
      "source": [
        "df.head()"
      ],
      "metadata": {
        "colab": {
          "base_uri": "https://localhost:8080/",
          "height": 377
        },
        "id": "n4G10Tfg9APb",
        "outputId": "fb1a5492-5ae4-4b52-da35-16369b0e2997"
      },
      "execution_count": 4,
      "outputs": [
        {
          "output_type": "execute_result",
          "data": {
            "text/plain": [
              "   CASE_NO_PATIENT'S  A1  A2  A3  A4  A5  A6  A7  A8  A9  ...  \\\n",
              "0                  1   0   0   0   0   0   0   1   1   0  ...   \n",
              "1                  2   1   1   0   0   0   1   1   0   0  ...   \n",
              "2                  3   1   0   0   0   0   0   1   1   0  ...   \n",
              "3                  4   1   1   1   1   1   1   1   1   1  ...   \n",
              "4                  5   1   1   0   1   1   1   1   1   1  ...   \n",
              "\n",
              "   Global developmental delay/intellectual disability  \\\n",
              "0                                                Yes    \n",
              "1                                                Yes    \n",
              "2                                                Yes    \n",
              "3                                                Yes    \n",
              "4                                                Yes    \n",
              "\n",
              "   Social/Behavioural Issues  Childhood Autism Rating Scale  Anxiety_disorder  \\\n",
              "0                        Yes                              1               Yes   \n",
              "1                        Yes                              2               Yes   \n",
              "2                        Yes                              4               Yes   \n",
              "3                        Yes                              2               Yes   \n",
              "4                        Yes                              1               Yes   \n",
              "\n",
              "  Sex       Ethnicity Jaundice Family_mem_with_ASD Who_completed_the_test  \\\n",
              "0   F  middle eastern      Yes                  No          Family Member   \n",
              "1   M  White European      Yes                  No          Family Member   \n",
              "2   M  Middle Eastern      Yes                  No          Family Member   \n",
              "3   M        Hispanic       No                  No          Family Member   \n",
              "4   F  White European       No                  No          Family Member   \n",
              "\n",
              "  ASD_traits  \n",
              "0         No  \n",
              "1        Yes  \n",
              "2        Yes  \n",
              "3        Yes  \n",
              "4        Yes  \n",
              "\n",
              "[5 rows x 28 columns]"
            ],
            "text/html": [
              "\n",
              "  <div id=\"df-8569ca15-00a0-4093-bd4b-b805730e40a1\" class=\"colab-df-container\">\n",
              "    <div>\n",
              "<style scoped>\n",
              "    .dataframe tbody tr th:only-of-type {\n",
              "        vertical-align: middle;\n",
              "    }\n",
              "\n",
              "    .dataframe tbody tr th {\n",
              "        vertical-align: top;\n",
              "    }\n",
              "\n",
              "    .dataframe thead th {\n",
              "        text-align: right;\n",
              "    }\n",
              "</style>\n",
              "<table border=\"1\" class=\"dataframe\">\n",
              "  <thead>\n",
              "    <tr style=\"text-align: right;\">\n",
              "      <th></th>\n",
              "      <th>CASE_NO_PATIENT'S</th>\n",
              "      <th>A1</th>\n",
              "      <th>A2</th>\n",
              "      <th>A3</th>\n",
              "      <th>A4</th>\n",
              "      <th>A5</th>\n",
              "      <th>A6</th>\n",
              "      <th>A7</th>\n",
              "      <th>A8</th>\n",
              "      <th>A9</th>\n",
              "      <th>...</th>\n",
              "      <th>Global developmental delay/intellectual disability</th>\n",
              "      <th>Social/Behavioural Issues</th>\n",
              "      <th>Childhood Autism Rating Scale</th>\n",
              "      <th>Anxiety_disorder</th>\n",
              "      <th>Sex</th>\n",
              "      <th>Ethnicity</th>\n",
              "      <th>Jaundice</th>\n",
              "      <th>Family_mem_with_ASD</th>\n",
              "      <th>Who_completed_the_test</th>\n",
              "      <th>ASD_traits</th>\n",
              "    </tr>\n",
              "  </thead>\n",
              "  <tbody>\n",
              "    <tr>\n",
              "      <th>0</th>\n",
              "      <td>1</td>\n",
              "      <td>0</td>\n",
              "      <td>0</td>\n",
              "      <td>0</td>\n",
              "      <td>0</td>\n",
              "      <td>0</td>\n",
              "      <td>0</td>\n",
              "      <td>1</td>\n",
              "      <td>1</td>\n",
              "      <td>0</td>\n",
              "      <td>...</td>\n",
              "      <td>Yes</td>\n",
              "      <td>Yes</td>\n",
              "      <td>1</td>\n",
              "      <td>Yes</td>\n",
              "      <td>F</td>\n",
              "      <td>middle eastern</td>\n",
              "      <td>Yes</td>\n",
              "      <td>No</td>\n",
              "      <td>Family Member</td>\n",
              "      <td>No</td>\n",
              "    </tr>\n",
              "    <tr>\n",
              "      <th>1</th>\n",
              "      <td>2</td>\n",
              "      <td>1</td>\n",
              "      <td>1</td>\n",
              "      <td>0</td>\n",
              "      <td>0</td>\n",
              "      <td>0</td>\n",
              "      <td>1</td>\n",
              "      <td>1</td>\n",
              "      <td>0</td>\n",
              "      <td>0</td>\n",
              "      <td>...</td>\n",
              "      <td>Yes</td>\n",
              "      <td>Yes</td>\n",
              "      <td>2</td>\n",
              "      <td>Yes</td>\n",
              "      <td>M</td>\n",
              "      <td>White European</td>\n",
              "      <td>Yes</td>\n",
              "      <td>No</td>\n",
              "      <td>Family Member</td>\n",
              "      <td>Yes</td>\n",
              "    </tr>\n",
              "    <tr>\n",
              "      <th>2</th>\n",
              "      <td>3</td>\n",
              "      <td>1</td>\n",
              "      <td>0</td>\n",
              "      <td>0</td>\n",
              "      <td>0</td>\n",
              "      <td>0</td>\n",
              "      <td>0</td>\n",
              "      <td>1</td>\n",
              "      <td>1</td>\n",
              "      <td>0</td>\n",
              "      <td>...</td>\n",
              "      <td>Yes</td>\n",
              "      <td>Yes</td>\n",
              "      <td>4</td>\n",
              "      <td>Yes</td>\n",
              "      <td>M</td>\n",
              "      <td>Middle Eastern</td>\n",
              "      <td>Yes</td>\n",
              "      <td>No</td>\n",
              "      <td>Family Member</td>\n",
              "      <td>Yes</td>\n",
              "    </tr>\n",
              "    <tr>\n",
              "      <th>3</th>\n",
              "      <td>4</td>\n",
              "      <td>1</td>\n",
              "      <td>1</td>\n",
              "      <td>1</td>\n",
              "      <td>1</td>\n",
              "      <td>1</td>\n",
              "      <td>1</td>\n",
              "      <td>1</td>\n",
              "      <td>1</td>\n",
              "      <td>1</td>\n",
              "      <td>...</td>\n",
              "      <td>Yes</td>\n",
              "      <td>Yes</td>\n",
              "      <td>2</td>\n",
              "      <td>Yes</td>\n",
              "      <td>M</td>\n",
              "      <td>Hispanic</td>\n",
              "      <td>No</td>\n",
              "      <td>No</td>\n",
              "      <td>Family Member</td>\n",
              "      <td>Yes</td>\n",
              "    </tr>\n",
              "    <tr>\n",
              "      <th>4</th>\n",
              "      <td>5</td>\n",
              "      <td>1</td>\n",
              "      <td>1</td>\n",
              "      <td>0</td>\n",
              "      <td>1</td>\n",
              "      <td>1</td>\n",
              "      <td>1</td>\n",
              "      <td>1</td>\n",
              "      <td>1</td>\n",
              "      <td>1</td>\n",
              "      <td>...</td>\n",
              "      <td>Yes</td>\n",
              "      <td>Yes</td>\n",
              "      <td>1</td>\n",
              "      <td>Yes</td>\n",
              "      <td>F</td>\n",
              "      <td>White European</td>\n",
              "      <td>No</td>\n",
              "      <td>No</td>\n",
              "      <td>Family Member</td>\n",
              "      <td>Yes</td>\n",
              "    </tr>\n",
              "  </tbody>\n",
              "</table>\n",
              "<p>5 rows × 28 columns</p>\n",
              "</div>\n",
              "    <div class=\"colab-df-buttons\">\n",
              "\n",
              "  <div class=\"colab-df-container\">\n",
              "    <button class=\"colab-df-convert\" onclick=\"convertToInteractive('df-8569ca15-00a0-4093-bd4b-b805730e40a1')\"\n",
              "            title=\"Convert this dataframe to an interactive table.\"\n",
              "            style=\"display:none;\">\n",
              "\n",
              "  <svg xmlns=\"http://www.w3.org/2000/svg\" height=\"24px\" viewBox=\"0 -960 960 960\">\n",
              "    <path d=\"M120-120v-720h720v720H120Zm60-500h600v-160H180v160Zm220 220h160v-160H400v160Zm0 220h160v-160H400v160ZM180-400h160v-160H180v160Zm440 0h160v-160H620v160ZM180-180h160v-160H180v160Zm440 0h160v-160H620v160Z\"/>\n",
              "  </svg>\n",
              "    </button>\n",
              "\n",
              "  <style>\n",
              "    .colab-df-container {\n",
              "      display:flex;\n",
              "      gap: 12px;\n",
              "    }\n",
              "\n",
              "    .colab-df-convert {\n",
              "      background-color: #E8F0FE;\n",
              "      border: none;\n",
              "      border-radius: 50%;\n",
              "      cursor: pointer;\n",
              "      display: none;\n",
              "      fill: #1967D2;\n",
              "      height: 32px;\n",
              "      padding: 0 0 0 0;\n",
              "      width: 32px;\n",
              "    }\n",
              "\n",
              "    .colab-df-convert:hover {\n",
              "      background-color: #E2EBFA;\n",
              "      box-shadow: 0px 1px 2px rgba(60, 64, 67, 0.3), 0px 1px 3px 1px rgba(60, 64, 67, 0.15);\n",
              "      fill: #174EA6;\n",
              "    }\n",
              "\n",
              "    .colab-df-buttons div {\n",
              "      margin-bottom: 4px;\n",
              "    }\n",
              "\n",
              "    [theme=dark] .colab-df-convert {\n",
              "      background-color: #3B4455;\n",
              "      fill: #D2E3FC;\n",
              "    }\n",
              "\n",
              "    [theme=dark] .colab-df-convert:hover {\n",
              "      background-color: #434B5C;\n",
              "      box-shadow: 0px 1px 3px 1px rgba(0, 0, 0, 0.15);\n",
              "      filter: drop-shadow(0px 1px 2px rgba(0, 0, 0, 0.3));\n",
              "      fill: #FFFFFF;\n",
              "    }\n",
              "  </style>\n",
              "\n",
              "    <script>\n",
              "      const buttonEl =\n",
              "        document.querySelector('#df-8569ca15-00a0-4093-bd4b-b805730e40a1 button.colab-df-convert');\n",
              "      buttonEl.style.display =\n",
              "        google.colab.kernel.accessAllowed ? 'block' : 'none';\n",
              "\n",
              "      async function convertToInteractive(key) {\n",
              "        const element = document.querySelector('#df-8569ca15-00a0-4093-bd4b-b805730e40a1');\n",
              "        const dataTable =\n",
              "          await google.colab.kernel.invokeFunction('convertToInteractive',\n",
              "                                                    [key], {});\n",
              "        if (!dataTable) return;\n",
              "\n",
              "        const docLinkHtml = 'Like what you see? Visit the ' +\n",
              "          '<a target=\"_blank\" href=https://colab.research.google.com/notebooks/data_table.ipynb>data table notebook</a>'\n",
              "          + ' to learn more about interactive tables.';\n",
              "        element.innerHTML = '';\n",
              "        dataTable['output_type'] = 'display_data';\n",
              "        await google.colab.output.renderOutput(dataTable, element);\n",
              "        const docLink = document.createElement('div');\n",
              "        docLink.innerHTML = docLinkHtml;\n",
              "        element.appendChild(docLink);\n",
              "      }\n",
              "    </script>\n",
              "  </div>\n",
              "\n",
              "\n",
              "<div id=\"df-07bc49aa-2fbf-45f4-8af6-20b4f0877e0d\">\n",
              "  <button class=\"colab-df-quickchart\" onclick=\"quickchart('df-07bc49aa-2fbf-45f4-8af6-20b4f0877e0d')\"\n",
              "            title=\"Suggest charts\"\n",
              "            style=\"display:none;\">\n",
              "\n",
              "<svg xmlns=\"http://www.w3.org/2000/svg\" height=\"24px\"viewBox=\"0 0 24 24\"\n",
              "     width=\"24px\">\n",
              "    <g>\n",
              "        <path d=\"M19 3H5c-1.1 0-2 .9-2 2v14c0 1.1.9 2 2 2h14c1.1 0 2-.9 2-2V5c0-1.1-.9-2-2-2zM9 17H7v-7h2v7zm4 0h-2V7h2v10zm4 0h-2v-4h2v4z\"/>\n",
              "    </g>\n",
              "</svg>\n",
              "  </button>\n",
              "\n",
              "<style>\n",
              "  .colab-df-quickchart {\n",
              "      --bg-color: #E8F0FE;\n",
              "      --fill-color: #1967D2;\n",
              "      --hover-bg-color: #E2EBFA;\n",
              "      --hover-fill-color: #174EA6;\n",
              "      --disabled-fill-color: #AAA;\n",
              "      --disabled-bg-color: #DDD;\n",
              "  }\n",
              "\n",
              "  [theme=dark] .colab-df-quickchart {\n",
              "      --bg-color: #3B4455;\n",
              "      --fill-color: #D2E3FC;\n",
              "      --hover-bg-color: #434B5C;\n",
              "      --hover-fill-color: #FFFFFF;\n",
              "      --disabled-bg-color: #3B4455;\n",
              "      --disabled-fill-color: #666;\n",
              "  }\n",
              "\n",
              "  .colab-df-quickchart {\n",
              "    background-color: var(--bg-color);\n",
              "    border: none;\n",
              "    border-radius: 50%;\n",
              "    cursor: pointer;\n",
              "    display: none;\n",
              "    fill: var(--fill-color);\n",
              "    height: 32px;\n",
              "    padding: 0;\n",
              "    width: 32px;\n",
              "  }\n",
              "\n",
              "  .colab-df-quickchart:hover {\n",
              "    background-color: var(--hover-bg-color);\n",
              "    box-shadow: 0 1px 2px rgba(60, 64, 67, 0.3), 0 1px 3px 1px rgba(60, 64, 67, 0.15);\n",
              "    fill: var(--button-hover-fill-color);\n",
              "  }\n",
              "\n",
              "  .colab-df-quickchart-complete:disabled,\n",
              "  .colab-df-quickchart-complete:disabled:hover {\n",
              "    background-color: var(--disabled-bg-color);\n",
              "    fill: var(--disabled-fill-color);\n",
              "    box-shadow: none;\n",
              "  }\n",
              "\n",
              "  .colab-df-spinner {\n",
              "    border: 2px solid var(--fill-color);\n",
              "    border-color: transparent;\n",
              "    border-bottom-color: var(--fill-color);\n",
              "    animation:\n",
              "      spin 1s steps(1) infinite;\n",
              "  }\n",
              "\n",
              "  @keyframes spin {\n",
              "    0% {\n",
              "      border-color: transparent;\n",
              "      border-bottom-color: var(--fill-color);\n",
              "      border-left-color: var(--fill-color);\n",
              "    }\n",
              "    20% {\n",
              "      border-color: transparent;\n",
              "      border-left-color: var(--fill-color);\n",
              "      border-top-color: var(--fill-color);\n",
              "    }\n",
              "    30% {\n",
              "      border-color: transparent;\n",
              "      border-left-color: var(--fill-color);\n",
              "      border-top-color: var(--fill-color);\n",
              "      border-right-color: var(--fill-color);\n",
              "    }\n",
              "    40% {\n",
              "      border-color: transparent;\n",
              "      border-right-color: var(--fill-color);\n",
              "      border-top-color: var(--fill-color);\n",
              "    }\n",
              "    60% {\n",
              "      border-color: transparent;\n",
              "      border-right-color: var(--fill-color);\n",
              "    }\n",
              "    80% {\n",
              "      border-color: transparent;\n",
              "      border-right-color: var(--fill-color);\n",
              "      border-bottom-color: var(--fill-color);\n",
              "    }\n",
              "    90% {\n",
              "      border-color: transparent;\n",
              "      border-bottom-color: var(--fill-color);\n",
              "    }\n",
              "  }\n",
              "</style>\n",
              "\n",
              "  <script>\n",
              "    async function quickchart(key) {\n",
              "      const quickchartButtonEl =\n",
              "        document.querySelector('#' + key + ' button');\n",
              "      quickchartButtonEl.disabled = true;  // To prevent multiple clicks.\n",
              "      quickchartButtonEl.classList.add('colab-df-spinner');\n",
              "      try {\n",
              "        const charts = await google.colab.kernel.invokeFunction(\n",
              "            'suggestCharts', [key], {});\n",
              "      } catch (error) {\n",
              "        console.error('Error during call to suggestCharts:', error);\n",
              "      }\n",
              "      quickchartButtonEl.classList.remove('colab-df-spinner');\n",
              "      quickchartButtonEl.classList.add('colab-df-quickchart-complete');\n",
              "    }\n",
              "    (() => {\n",
              "      let quickchartButtonEl =\n",
              "        document.querySelector('#df-07bc49aa-2fbf-45f4-8af6-20b4f0877e0d button');\n",
              "      quickchartButtonEl.style.display =\n",
              "        google.colab.kernel.accessAllowed ? 'block' : 'none';\n",
              "    })();\n",
              "  </script>\n",
              "</div>\n",
              "\n",
              "    </div>\n",
              "  </div>\n"
            ],
            "application/vnd.google.colaboratory.intrinsic+json": {
              "type": "dataframe",
              "variable_name": "df"
            }
          },
          "metadata": {},
          "execution_count": 4
        }
      ]
    },
    {
      "cell_type": "code",
      "source": [
        "print(f\"Number of Instances: {df.shape[0]}\")\n",
        "print(f\"Data types of features:\\n{df.dtypes}\")\n",
        "if 'Class/ASD' in df.columns:\n",
        "    print(f\"Number of Classes: {df['Class/ASD'].nunique()}\")\n",
        "else:\n",
        "  print(\"The dataset does not have a 'Class/ASD' column.\")"
      ],
      "metadata": {
        "colab": {
          "base_uri": "https://localhost:8080/"
        },
        "id": "rBeYwS9R0k92",
        "outputId": "dab25704-c590-4670-fce6-5eef7a041e71"
      },
      "execution_count": 5,
      "outputs": [
        {
          "output_type": "stream",
          "name": "stdout",
          "text": [
            "Number of Instances: 1985\n",
            "Data types of features:\n",
            "CASE_NO_PATIENT'S                                       int64\n",
            "A1                                                      int64\n",
            "A2                                                      int64\n",
            "A3                                                      int64\n",
            "A4                                                      int64\n",
            "A5                                                      int64\n",
            "A6                                                      int64\n",
            "A7                                                      int64\n",
            "A8                                                      int64\n",
            "A9                                                      int64\n",
            "A10_Autism_Spectrum_Quotient                            int64\n",
            "Social_Responsiveness_Scale                           float64\n",
            "Age_Years                                               int64\n",
            "Qchat_10_Score                                        float64\n",
            "Speech Delay/Language Disorder                         object\n",
            "Learning disorder                                      object\n",
            "Genetic_Disorders                                      object\n",
            "Depression                                             object\n",
            "Global developmental delay/intellectual disability     object\n",
            "Social/Behavioural Issues                              object\n",
            "Childhood Autism Rating Scale                           int64\n",
            "Anxiety_disorder                                       object\n",
            "Sex                                                    object\n",
            "Ethnicity                                              object\n",
            "Jaundice                                               object\n",
            "Family_mem_with_ASD                                    object\n",
            "Who_completed_the_test                                 object\n",
            "ASD_traits                                             object\n",
            "dtype: object\n",
            "The dataset does not have a 'Class/ASD' column.\n"
          ]
        }
      ]
    },
    {
      "cell_type": "markdown",
      "source": [
        "# Handling Missing Values"
      ],
      "metadata": {
        "id": "RCASScwP9mvl"
      }
    },
    {
      "cell_type": "code",
      "source": [
        "print(\"Missing values per column:\")\n",
        "print(df.isnull().sum())\n",
        "\n",
        "print(\"\\nTotal missing values in the DataFrame:\")\n",
        "print(df.isnull().sum().sum())"
      ],
      "metadata": {
        "colab": {
          "base_uri": "https://localhost:8080/"
        },
        "id": "ndfmRSwy9t40",
        "outputId": "6c7d5b21-9920-4f87-b11b-33b431a28280"
      },
      "execution_count": 6,
      "outputs": [
        {
          "output_type": "stream",
          "name": "stdout",
          "text": [
            "Missing values per column:\n",
            "CASE_NO_PATIENT'S                                      0\n",
            "A1                                                     0\n",
            "A2                                                     0\n",
            "A3                                                     0\n",
            "A4                                                     0\n",
            "A5                                                     0\n",
            "A6                                                     0\n",
            "A7                                                     0\n",
            "A8                                                     0\n",
            "A9                                                     0\n",
            "A10_Autism_Spectrum_Quotient                           0\n",
            "Social_Responsiveness_Scale                            9\n",
            "Age_Years                                              0\n",
            "Qchat_10_Score                                        39\n",
            "Speech Delay/Language Disorder                         0\n",
            "Learning disorder                                      0\n",
            "Genetic_Disorders                                      0\n",
            "Depression                                             1\n",
            "Global developmental delay/intellectual disability     0\n",
            "Social/Behavioural Issues                             14\n",
            "Childhood Autism Rating Scale                          0\n",
            "Anxiety_disorder                                       0\n",
            "Sex                                                    0\n",
            "Ethnicity                                              0\n",
            "Jaundice                                               0\n",
            "Family_mem_with_ASD                                    0\n",
            "Who_completed_the_test                                 0\n",
            "ASD_traits                                             0\n",
            "dtype: int64\n",
            "\n",
            "Total missing values in the DataFrame:\n",
            "63\n"
          ]
        }
      ]
    },
    {
      "cell_type": "markdown",
      "source": [
        "dataset has 63 missing values distributed across four columns:\n",
        "\n",
        "\n",
        "1.   Social_Responsiveness_Scale (float64) → 9 missing values\n",
        "2.   Qchat_10_Score (float64)→ 39 missing values\n",
        "3. Depression (object)→ 1 missing value\n",
        "4.Social/Behavioural Issues(object) → 14 missing values\n",
        "\n",
        "\n",
        "\n",
        "\n"
      ],
      "metadata": {
        "id": "bUI5d2k_1200"
      }
    },
    {
      "cell_type": "markdown",
      "source": [
        "Imputing Social_Responsiveness_Scale with mean"
      ],
      "metadata": {
        "id": "vohBUKmx8-wu"
      }
    },
    {
      "cell_type": "code",
      "source": [
        "# Calculate the mean of the 'Social_Responsiveness_Scale' column\n",
        "mean_srs = df['Social_Responsiveness_Scale'].mean()\n",
        "\n",
        "# Impute missing values in 'Social_Responsiveness_Scale' with the mean\n",
        "df['Social_Responsiveness_Scale'] = df['Social_Responsiveness_Scale'].fillna(mean_srs)\n",
        "print(df['Social_Responsiveness_Scale'].isnull().sum())"
      ],
      "metadata": {
        "colab": {
          "base_uri": "https://localhost:8080/"
        },
        "id": "9dykphO75P5b",
        "outputId": "ede55818-b56f-41bd-edd5-fa7b0a072bec"
      },
      "execution_count": 7,
      "outputs": [
        {
          "output_type": "stream",
          "name": "stdout",
          "text": [
            "0\n"
          ]
        }
      ]
    },
    {
      "cell_type": "markdown",
      "source": [
        "Imputing Qchat_10_Score with mean"
      ],
      "metadata": {
        "id": "pC8kNLrv9S2F"
      }
    },
    {
      "cell_type": "code",
      "source": [
        "mean_qchat = df['Qchat_10_Score'].mean()\n",
        "df['Qchat_10_Score'] = df['Qchat_10_Score'].fillna(mean_qchat)\n",
        "print(df['Qchat_10_Score'].isnull().sum())"
      ],
      "metadata": {
        "colab": {
          "base_uri": "https://localhost:8080/"
        },
        "id": "FLnNXavB9Nt3",
        "outputId": "ab336394-aad9-48d9-de47-f9d04eaa9fd1"
      },
      "execution_count": 8,
      "outputs": [
        {
          "output_type": "stream",
          "name": "stdout",
          "text": [
            "0\n"
          ]
        }
      ]
    },
    {
      "cell_type": "markdown",
      "source": [
        "Imputing Social/Behavioural Issues with mode"
      ],
      "metadata": {
        "id": "0E0yvHjo92FR"
      }
    },
    {
      "cell_type": "code",
      "source": [
        "mode_social_behavioural = df['Social/Behavioural Issues'].mode()[0]\n",
        "df['Social/Behavioural Issues'] = df['Social/Behavioural Issues'].fillna(mode_social_behavioural)\n",
        "print(df['Social/Behavioural Issues'].isnull().sum())"
      ],
      "metadata": {
        "colab": {
          "base_uri": "https://localhost:8080/"
        },
        "id": "IDveK_819bFW",
        "outputId": "a88efe85-13fc-436e-85b3-3ce90621e743"
      },
      "execution_count": 9,
      "outputs": [
        {
          "output_type": "stream",
          "name": "stdout",
          "text": [
            "0\n"
          ]
        }
      ]
    },
    {
      "cell_type": "markdown",
      "source": [
        "Imputing Depression column values with mode"
      ],
      "metadata": {
        "id": "Bh8TcELg-Pqr"
      }
    },
    {
      "cell_type": "code",
      "source": [
        "mode_depression = df['Depression'].mode()[0]\n",
        "df['Depression'] = df['Depression'].fillna(mode_depression)\n",
        "print(df['Depression'].isnull().sum())"
      ],
      "metadata": {
        "colab": {
          "base_uri": "https://localhost:8080/"
        },
        "id": "ahGK1vCz-JTh",
        "outputId": "15bc6820-dc63-40a0-beb4-36352714cbc9"
      },
      "execution_count": 10,
      "outputs": [
        {
          "output_type": "stream",
          "name": "stdout",
          "text": [
            "0\n"
          ]
        }
      ]
    },
    {
      "cell_type": "code",
      "source": [
        "df.isnull().sum()"
      ],
      "metadata": {
        "colab": {
          "base_uri": "https://localhost:8080/",
          "height": 962
        },
        "id": "TD1_agr9-WFe",
        "outputId": "1df0e990-a661-435f-e466-e406e21f3e89"
      },
      "execution_count": 11,
      "outputs": [
        {
          "output_type": "execute_result",
          "data": {
            "text/plain": [
              "CASE_NO_PATIENT'S                                     0\n",
              "A1                                                    0\n",
              "A2                                                    0\n",
              "A3                                                    0\n",
              "A4                                                    0\n",
              "A5                                                    0\n",
              "A6                                                    0\n",
              "A7                                                    0\n",
              "A8                                                    0\n",
              "A9                                                    0\n",
              "A10_Autism_Spectrum_Quotient                          0\n",
              "Social_Responsiveness_Scale                           0\n",
              "Age_Years                                             0\n",
              "Qchat_10_Score                                        0\n",
              "Speech Delay/Language Disorder                        0\n",
              "Learning disorder                                     0\n",
              "Genetic_Disorders                                     0\n",
              "Depression                                            0\n",
              "Global developmental delay/intellectual disability    0\n",
              "Social/Behavioural Issues                             0\n",
              "Childhood Autism Rating Scale                         0\n",
              "Anxiety_disorder                                      0\n",
              "Sex                                                   0\n",
              "Ethnicity                                             0\n",
              "Jaundice                                              0\n",
              "Family_mem_with_ASD                                   0\n",
              "Who_completed_the_test                                0\n",
              "ASD_traits                                            0\n",
              "dtype: int64"
            ],
            "text/html": [
              "<div>\n",
              "<style scoped>\n",
              "    .dataframe tbody tr th:only-of-type {\n",
              "        vertical-align: middle;\n",
              "    }\n",
              "\n",
              "    .dataframe tbody tr th {\n",
              "        vertical-align: top;\n",
              "    }\n",
              "\n",
              "    .dataframe thead th {\n",
              "        text-align: right;\n",
              "    }\n",
              "</style>\n",
              "<table border=\"1\" class=\"dataframe\">\n",
              "  <thead>\n",
              "    <tr style=\"text-align: right;\">\n",
              "      <th></th>\n",
              "      <th>0</th>\n",
              "    </tr>\n",
              "  </thead>\n",
              "  <tbody>\n",
              "    <tr>\n",
              "      <th>CASE_NO_PATIENT'S</th>\n",
              "      <td>0</td>\n",
              "    </tr>\n",
              "    <tr>\n",
              "      <th>A1</th>\n",
              "      <td>0</td>\n",
              "    </tr>\n",
              "    <tr>\n",
              "      <th>A2</th>\n",
              "      <td>0</td>\n",
              "    </tr>\n",
              "    <tr>\n",
              "      <th>A3</th>\n",
              "      <td>0</td>\n",
              "    </tr>\n",
              "    <tr>\n",
              "      <th>A4</th>\n",
              "      <td>0</td>\n",
              "    </tr>\n",
              "    <tr>\n",
              "      <th>A5</th>\n",
              "      <td>0</td>\n",
              "    </tr>\n",
              "    <tr>\n",
              "      <th>A6</th>\n",
              "      <td>0</td>\n",
              "    </tr>\n",
              "    <tr>\n",
              "      <th>A7</th>\n",
              "      <td>0</td>\n",
              "    </tr>\n",
              "    <tr>\n",
              "      <th>A8</th>\n",
              "      <td>0</td>\n",
              "    </tr>\n",
              "    <tr>\n",
              "      <th>A9</th>\n",
              "      <td>0</td>\n",
              "    </tr>\n",
              "    <tr>\n",
              "      <th>A10_Autism_Spectrum_Quotient</th>\n",
              "      <td>0</td>\n",
              "    </tr>\n",
              "    <tr>\n",
              "      <th>Social_Responsiveness_Scale</th>\n",
              "      <td>0</td>\n",
              "    </tr>\n",
              "    <tr>\n",
              "      <th>Age_Years</th>\n",
              "      <td>0</td>\n",
              "    </tr>\n",
              "    <tr>\n",
              "      <th>Qchat_10_Score</th>\n",
              "      <td>0</td>\n",
              "    </tr>\n",
              "    <tr>\n",
              "      <th>Speech Delay/Language Disorder</th>\n",
              "      <td>0</td>\n",
              "    </tr>\n",
              "    <tr>\n",
              "      <th>Learning disorder</th>\n",
              "      <td>0</td>\n",
              "    </tr>\n",
              "    <tr>\n",
              "      <th>Genetic_Disorders</th>\n",
              "      <td>0</td>\n",
              "    </tr>\n",
              "    <tr>\n",
              "      <th>Depression</th>\n",
              "      <td>0</td>\n",
              "    </tr>\n",
              "    <tr>\n",
              "      <th>Global developmental delay/intellectual disability</th>\n",
              "      <td>0</td>\n",
              "    </tr>\n",
              "    <tr>\n",
              "      <th>Social/Behavioural Issues</th>\n",
              "      <td>0</td>\n",
              "    </tr>\n",
              "    <tr>\n",
              "      <th>Childhood Autism Rating Scale</th>\n",
              "      <td>0</td>\n",
              "    </tr>\n",
              "    <tr>\n",
              "      <th>Anxiety_disorder</th>\n",
              "      <td>0</td>\n",
              "    </tr>\n",
              "    <tr>\n",
              "      <th>Sex</th>\n",
              "      <td>0</td>\n",
              "    </tr>\n",
              "    <tr>\n",
              "      <th>Ethnicity</th>\n",
              "      <td>0</td>\n",
              "    </tr>\n",
              "    <tr>\n",
              "      <th>Jaundice</th>\n",
              "      <td>0</td>\n",
              "    </tr>\n",
              "    <tr>\n",
              "      <th>Family_mem_with_ASD</th>\n",
              "      <td>0</td>\n",
              "    </tr>\n",
              "    <tr>\n",
              "      <th>Who_completed_the_test</th>\n",
              "      <td>0</td>\n",
              "    </tr>\n",
              "    <tr>\n",
              "      <th>ASD_traits</th>\n",
              "      <td>0</td>\n",
              "    </tr>\n",
              "  </tbody>\n",
              "</table>\n",
              "</div><br><label><b>dtype:</b> int64</label>"
            ]
          },
          "metadata": {},
          "execution_count": 11
        }
      ]
    },
    {
      "cell_type": "markdown",
      "source": [
        "# Check for Duplicates"
      ],
      "metadata": {
        "id": "f0BY3jpa-jf7"
      }
    },
    {
      "cell_type": "code",
      "source": [
        "print(df.duplicated().sum())"
      ],
      "metadata": {
        "colab": {
          "base_uri": "https://localhost:8080/"
        },
        "id": "BWJsNwJ4-hoj",
        "outputId": "339c1d99-34f4-4b03-92a3-ca684c712cea"
      },
      "execution_count": 12,
      "outputs": [
        {
          "output_type": "stream",
          "name": "stdout",
          "text": [
            "0\n"
          ]
        }
      ]
    },
    {
      "cell_type": "markdown",
      "source": [
        "# Drop unique column"
      ],
      "metadata": {
        "id": "0M5OorSKCKlk"
      }
    },
    {
      "cell_type": "code",
      "source": [
        "df = df.drop(columns=['CASE_NO_PATIENT\\'S'])"
      ],
      "metadata": {
        "id": "ywro2w1sBwlt"
      },
      "execution_count": 13,
      "outputs": []
    },
    {
      "cell_type": "markdown",
      "source": [
        "# Handling Outliers"
      ],
      "metadata": {
        "id": "CbmKdysB_1j9"
      }
    },
    {
      "cell_type": "code",
      "source": [
        "numerical_cols = df.select_dtypes(include=np.number).columns.tolist()\n",
        "print (numerical_cols)"
      ],
      "metadata": {
        "colab": {
          "base_uri": "https://localhost:8080/"
        },
        "id": "Hy0OGc9RACZF",
        "outputId": "5bcd0e87-4158-4263-f67c-a830a70396e0"
      },
      "execution_count": 14,
      "outputs": [
        {
          "output_type": "stream",
          "name": "stdout",
          "text": [
            "['A1', 'A2', 'A3', 'A4', 'A5', 'A6', 'A7', 'A8', 'A9', 'A10_Autism_Spectrum_Quotient', 'Social_Responsiveness_Scale', 'Age_Years', 'Qchat_10_Score', 'Childhood Autism Rating Scale']\n"
          ]
        }
      ]
    },
    {
      "cell_type": "code",
      "source": [
        "columns_to_plot = ['Social_Responsiveness_Scale', 'Age_Years', 'Qchat_10_Score']\n",
        "\n",
        "fig, axes = plt.subplots(1, len(columns_to_plot), figsize=(15, 5))\n",
        "\n",
        "for i, column in enumerate(columns_to_plot):\n",
        "    sns.boxplot(x=df[column], ax=axes[i])\n",
        "    axes[i].set_title(f'Box Plot of {column}')\n",
        "    axes[i].set_xlabel(column)\n",
        "\n",
        "plt.tight_layout()\n",
        "plt.show()"
      ],
      "metadata": {
        "colab": {
          "base_uri": "https://localhost:8080/",
          "height": 383
        },
        "id": "xwXFuS7NDGcs",
        "outputId": "85b6d66c-fc99-4771-ff7f-a978ffea520f"
      },
      "execution_count": 15,
      "outputs": [
        {
          "output_type": "display_data",
          "data": {
            "text/plain": [
              "<Figure size 1500x500 with 3 Axes>"
            ],
            "image/png": "[encoded data removed]"
          },
          "metadata": {}
        }
      ]
    },
    {
      "cell_type": "code",
      "source": [
        "def detect_outliers_iqr(df, column, threshold=1.5):\n",
        "    Q1 = df[column].quantile(0.25)\n",
        "    Q3 = df[column].quantile(0.75)\n",
        "    IQR = Q3 - Q1\n",
        "    lower_bound = Q1 - threshold * IQR\n",
        "    upper_bound = Q3 + threshold * IQR\n",
        "    outliers = df[(df[column] < lower_bound) | (df[column] > upper_bound)]\n",
        "    return outliers\n",
        "\n",
        "\n",
        "numerical_cols = ['Social_Responsiveness_Scale', 'Age_Years', 'Qchat_10_Score']\n",
        "\n",
        "for column in numerical_cols:\n",
        "  outliers_df = detect_outliers_iqr(df, column)\n",
        "  print(f\"Outliers in column '{column}':\")\n",
        "  if not outliers_df.empty:\n",
        "      print(outliers_df)\n",
        "  else:\n",
        "      print(\"No outliers found.\")"
      ],
      "metadata": {
        "colab": {
          "base_uri": "https://localhost:8080/"
        },
        "id": "RfTHJPjHZ4qh",
        "outputId": "2a381eeb-9834-4b85-dd29-8042694399b3"
      },
      "execution_count": 16,
      "outputs": [
        {
          "output_type": "stream",
          "name": "stdout",
          "text": [
            "Outliers in column 'Social_Responsiveness_Scale':\n",
            "No outliers found.\n",
            "Outliers in column 'Age_Years':\n",
            "No outliers found.\n",
            "Outliers in column 'Qchat_10_Score':\n",
            "No outliers found.\n"
          ]
        }
      ]
    },
    {
      "cell_type": "markdown",
      "source": [
        "# Feature Scalling"
      ],
      "metadata": {
        "id": "LUwSmk1FZa8f"
      }
    },
    {
      "cell_type": "code",
      "source": [
        "columns_to_scale = ['Social_Responsiveness_Scale', 'Age_Years', 'Qchat_10_Score']\n",
        "\n",
        "# Initialize the MinMaxScaler\n",
        "scaler = MinMaxScaler()\n",
        "\n",
        "# Fit and transform the specified columns\n",
        "df[columns_to_scale] = scaler.fit_transform(df[columns_to_scale])\n",
        "\n",
        "# Display the first few rows of the scaled data\n",
        "print(df[columns_to_scale].head())"
      ],
      "metadata": {
        "colab": {
          "base_uri": "https://localhost:8080/"
        },
        "id": "b1BMjooEYt3y",
        "outputId": "88ef6995-0234-4bee-d6db-c6beba793e1d"
      },
      "execution_count": 17,
      "outputs": [
        {
          "output_type": "stream",
          "name": "stdout",
          "text": [
            "   Social_Responsiveness_Scale  Age_Years  Qchat_10_Score\n",
            "0                          0.3   0.058824             0.3\n",
            "1                          0.6   0.117647             0.4\n",
            "2                          0.7   0.117647             0.4\n",
            "3                          0.1   0.058824             1.0\n",
            "4                          0.3   0.058824             0.9\n"
          ]
        }
      ]
    },
    {
      "cell_type": "markdown",
      "source": [
        "# Data Encoding"
      ],
      "metadata": {
        "id": "rVB1pGDXcU6O"
      }
    },
    {
      "cell_type": "code",
      "source": [
        "object_cols = df.select_dtypes(include='object').columns\n",
        "\n",
        "for col in object_cols:\n",
        "    print(f\"Column: {col}\")\n",
        "    print(df[col].value_counts())\n",
        "    print(\"-\" * 30)"
      ],
      "metadata": {
        "colab": {
          "base_uri": "https://localhost:8080/"
        },
        "id": "T99bm_2RcSge",
        "outputId": "3f7bb3fd-55ea-4668-b503-a72243a7a144"
      },
      "execution_count": 18,
      "outputs": [
        {
          "output_type": "stream",
          "name": "stdout",
          "text": [
            "Column: Speech Delay/Language Disorder\n",
            "Speech Delay/Language Disorder\n",
            "Yes    1057\n",
            "No      928\n",
            "Name: count, dtype: int64\n",
            "------------------------------\n",
            "Column: Learning disorder\n",
            "Learning disorder\n",
            "Yes    1075\n",
            "No      910\n",
            "Name: count, dtype: int64\n",
            "------------------------------\n",
            "Column: Genetic_Disorders\n",
            "Genetic_Disorders\n",
            "Yes    1013\n",
            "No      972\n",
            "Name: count, dtype: int64\n",
            "------------------------------\n",
            "Column: Depression\n",
            "Depression\n",
            "Yes    1055\n",
            "No      930\n",
            "Name: count, dtype: int64\n",
            "------------------------------\n",
            "Column: Global developmental delay/intellectual disability\n",
            "Global developmental delay/intellectual disability\n",
            "Yes    1054\n",
            "No      931\n",
            "Name: count, dtype: int64\n",
            "------------------------------\n",
            "Column: Social/Behavioural Issues\n",
            "Social/Behavioural Issues\n",
            "Yes    1054\n",
            "No      931\n",
            "Name: count, dtype: int64\n",
            "------------------------------\n",
            "Column: Anxiety_disorder\n",
            "Anxiety_disorder\n",
            "Yes    1051\n",
            "No      934\n",
            "Name: count, dtype: int64\n",
            "------------------------------\n",
            "Column: Sex\n",
            "Sex\n",
            "M    1447\n",
            "F     538\n",
            "Name: count, dtype: int64\n",
            "------------------------------\n",
            "Column: Ethnicity\n",
            "Ethnicity\n",
            "White European    549\n",
            "Asian             392\n",
            "Middle Eastern    362\n",
            "asian             213\n",
            "south asian       206\n",
            "South Asian        49\n",
            "Black              45\n",
            "middle eastern     41\n",
            "Hispanic           40\n",
            "Others             35\n",
            "Latino             26\n",
            "black               8\n",
            "PaciFica            8\n",
            "Mixed               7\n",
            "Native Indian       3\n",
            "mixed               1\n",
            "Name: count, dtype: int64\n",
            "------------------------------\n",
            "Column: Jaundice\n",
            "Jaundice\n",
            "Yes    1536\n",
            "No      449\n",
            "Name: count, dtype: int64\n",
            "------------------------------\n",
            "Column: Family_mem_with_ASD\n",
            "Family_mem_with_ASD\n",
            "No     1330\n",
            "Yes     655\n",
            "Name: count, dtype: int64\n",
            "------------------------------\n",
            "Column: Who_completed_the_test\n",
            "Who_completed_the_test\n",
            "Health Care Professional    1233\n",
            "Family Member                658\n",
            "Family member                 58\n",
            "School and NGO                29\n",
            "Self                           4\n",
            "Others                         3\n",
            "Name: count, dtype: int64\n",
            "------------------------------\n",
            "Column: ASD_traits\n",
            "ASD_traits\n",
            "Yes    1074\n",
            "No      911\n",
            "Name: count, dtype: int64\n",
            "------------------------------\n"
          ]
        }
      ]
    },
    {
      "cell_type": "markdown",
      "source": [
        "Binary Categorical Features (Yes/No, M/F) → Use Label Encoding (0 & 1)"
      ],
      "metadata": {
        "id": "Q1SKmaGcd4yK"
      }
    },
    {
      "cell_type": "code",
      "source": [
        "binary_cols = [\n",
        "    'Speech Delay/Language Disorder', 'Learning disorder', 'Genetic_Disorders',\n",
        "    'Depression', 'Global developmental delay/intellectual disability',\n",
        "    'Social/Behavioural Issues', 'Anxiety_disorder', 'Jaundice',\n",
        "    'Family_mem_with_ASD', 'ASD_traits', 'Sex'\n",
        "]\n",
        "\n",
        "encoder = LabelEncoder()\n",
        "for col in binary_cols:\n",
        "    df[col] = encoder.fit_transform(df[col])"
      ],
      "metadata": {
        "id": "vM8Bvq81d327"
      },
      "execution_count": 19,
      "outputs": []
    },
    {
      "cell_type": "markdown",
      "source": [
        "Handling Ethnicity (Standardizing Labels Before Encoding)\n",
        "The Ethnicity column contains inconsistent capitalization & similar categories:"
      ],
      "metadata": {
        "id": "7Zxw0YPveQol"
      }
    },
    {
      "cell_type": "code",
      "source": [
        "df['Ethnicity'] = df['Ethnicity'].str.lower().str.strip()\n",
        "df['Ethnicity'] = df['Ethnicity'].replace({\n",
        "    'asian': 'Asian', 'south asian': 'South Asian', 'middle eastern': 'Middle Eastern',\n",
        "    'black': 'Black', 'mixed': 'Mixed'\n",
        "})"
      ],
      "metadata": {
        "id": "2DRiUBYieid_"
      },
      "execution_count": 20,
      "outputs": []
    },
    {
      "cell_type": "code",
      "source": [
        "print(df['Ethnicity'].value_counts())"
      ],
      "metadata": {
        "colab": {
          "base_uri": "https://localhost:8080/"
        },
        "id": "q3OD8AMFfCKJ",
        "outputId": "da5ec80c-14bd-4359-bf79-051551240658"
      },
      "execution_count": 21,
      "outputs": [
        {
          "output_type": "stream",
          "name": "stdout",
          "text": [
            "Ethnicity\n",
            "Asian             605\n",
            "white european    549\n",
            "Middle Eastern    403\n",
            "South Asian       255\n",
            "Black              53\n",
            "hispanic           40\n",
            "others             35\n",
            "latino             26\n",
            "Mixed               8\n",
            "pacifica            8\n",
            "native indian       3\n",
            "Name: count, dtype: int64\n"
          ]
        }
      ]
    },
    {
      "cell_type": "code",
      "source": [
        "# Create contingency table\n",
        "contingency_table = pd.crosstab(df['Ethnicity'], df['ASD_traits'])\n",
        "\n",
        "# Perform Chi-Square test\n",
        "chi2_stat, p_value, dof, expected = stats.chi2_contingency(contingency_table)\n",
        "\n",
        "# Print results\n",
        "print(f'Chi-Square Statistic: {chi2_stat:.3f}')\n",
        "print(f'Degrees of Freedom: {dof}')\n",
        "print(f'P-Value: {p_value:.5f}')\n",
        "\n",
        "# Interpretation\n",
        "alpha = 0.05\n",
        "if p_value < alpha:\n",
        "    print(\"Conclusion: There is a significant association between Ethnicity and ASD traits.\")\n",
        "else:\n",
        "    print(\"Conclusion: No significant association between Ethnicity and ASD traits.\")"
      ],
      "metadata": {
        "colab": {
          "base_uri": "https://localhost:8080/"
        },
        "id": "jupYh-VUgKfy",
        "outputId": "813847eb-5ab8-4828-c7ad-e108a126abb3"
      },
      "execution_count": 22,
      "outputs": [
        {
          "output_type": "stream",
          "name": "stdout",
          "text": [
            "Chi-Square Statistic: 557.019\n",
            "Degrees of Freedom: 10\n",
            "P-Value: 0.00000\n",
            "Conclusion: There is a significant association between Ethnicity and ASD traits.\n"
          ]
        }
      ]
    },
    {
      "cell_type": "code",
      "source": [
        "# Function to calculate Cramér's V\n",
        "def cramers_v(chi2, n, dof):\n",
        "    return np.sqrt(chi2 / (n * min(dof, contingency_table.shape[1] - 1)))\n",
        "\n",
        "# Total number of observations\n",
        "n = df.shape[0]\n",
        "\n",
        "# Compute Cramér's V\n",
        "cramers_v_value = cramers_v(chi2_stat, n, dof)\n",
        "\n",
        "# Display result\n",
        "cramers_v_value"
      ],
      "metadata": {
        "colab": {
          "base_uri": "https://localhost:8080/"
        },
        "id": "F7b6xBWMjLLx",
        "outputId": "80d29770-bd93-466b-e9c6-3780510e614b"
      },
      "execution_count": 23,
      "outputs": [
        {
          "output_type": "execute_result",
          "data": {
            "text/plain": [
              "np.float64(0.5297303255314949)"
            ]
          },
          "metadata": {},
          "execution_count": 23
        }
      ]
    },
    {
      "cell_type": "code",
      "source": [
        "# Define a threshold for grouping rare categories\n",
        "threshold = 50\n",
        "\n",
        "# Replace rare categories with 'Other'\n",
        "df['Ethnicity'] = df['Ethnicity'].apply(lambda x: x if df['Ethnicity'].value_counts()[x] >= threshold else 'Other')"
      ],
      "metadata": {
        "id": "Ozm5Ak8Rja1P"
      },
      "execution_count": 24,
      "outputs": []
    },
    {
      "cell_type": "code",
      "source": [
        "print(df['Ethnicity'].value_counts())"
      ],
      "metadata": {
        "colab": {
          "base_uri": "https://localhost:8080/"
        },
        "id": "ODqpyMtmkdpZ",
        "outputId": "423c6be5-5a10-4b66-8c99-22f2b9383fa6"
      },
      "execution_count": 25,
      "outputs": [
        {
          "output_type": "stream",
          "name": "stdout",
          "text": [
            "Ethnicity\n",
            "Asian             605\n",
            "white european    549\n",
            "Middle Eastern    403\n",
            "South Asian       255\n",
            "Other             120\n",
            "Black              53\n",
            "Name: count, dtype: int64\n"
          ]
        }
      ]
    },
    {
      "cell_type": "code",
      "source": [
        "# Initialize One-Hot Encoder with drop='first' to reduce feature space\n",
        "encoder = OneHotEncoder(drop='first', sparse_output=False)  # Corrected argument\n",
        "ethnicity_encoded = encoder.fit_transform(df[['Ethnicity']])\n",
        "\n",
        "# Convert to DataFrame with appropriate column names\n",
        "ethnicity_encoded_df = pd.DataFrame(ethnicity_encoded, columns=encoder.get_feature_names_out(['Ethnicity']))\n",
        "\n",
        "# Merge with the original DataFrame and drop the original Ethnicity column\n",
        "df = pd.concat([df, ethnicity_encoded_df], axis=1).drop(columns=['Ethnicity'])\n",
        "\n",
        "# Display the updated DataFrame with One-Hot Encoding applied\n",
        "print(\"One-Hot Encoded Ethnicity Data:\")\n",
        "print(df.head())"
      ],
      "metadata": {
        "colab": {
          "base_uri": "https://localhost:8080/"
        },
        "id": "YviCBVbtnAcd",
        "outputId": "409e42f1-1159-48cf-851c-267f8d027c62"
      },
      "execution_count": 26,
      "outputs": [
        {
          "output_type": "stream",
          "name": "stdout",
          "text": [
            "One-Hot Encoded Ethnicity Data:\n",
            "   A1  A2  A3  A4  A5  A6  A7  A8  A9  A10_Autism_Spectrum_Quotient  ...  Sex  \\\n",
            "0   0   0   0   0   0   0   1   1   0                             1  ...    0   \n",
            "1   1   1   0   0   0   1   1   0   0                             0  ...    1   \n",
            "2   1   0   0   0   0   0   1   1   0                             1  ...    1   \n",
            "3   1   1   1   1   1   1   1   1   1                             1  ...    1   \n",
            "4   1   1   0   1   1   1   1   1   1                             1  ...    0   \n",
            "\n",
            "   Jaundice  Family_mem_with_ASD  Who_completed_the_test  ASD_traits  \\\n",
            "0         1                    0           Family Member           0   \n",
            "1         1                    0           Family Member           1   \n",
            "2         1                    0           Family Member           1   \n",
            "3         0                    0           Family Member           1   \n",
            "4         0                    0           Family Member           1   \n",
            "\n",
            "   Ethnicity_Black  Ethnicity_Middle Eastern  Ethnicity_Other  \\\n",
            "0              0.0                       1.0              0.0   \n",
            "1              0.0                       0.0              0.0   \n",
            "2              0.0                       1.0              0.0   \n",
            "3              0.0                       0.0              1.0   \n",
            "4              0.0                       0.0              0.0   \n",
            "\n",
            "   Ethnicity_South Asian  Ethnicity_white european  \n",
            "0                    0.0                       0.0  \n",
            "1                    0.0                       1.0  \n",
            "2                    0.0                       0.0  \n",
            "3                    0.0                       0.0  \n",
            "4                    0.0                       1.0  \n",
            "\n",
            "[5 rows x 31 columns]\n"
          ]
        }
      ]
    },
    {
      "cell_type": "markdown",
      "source": [
        "Handling Who_completed_the_test (Standardizing & Encoding)\n",
        "Standardizing inconsistent capitalization"
      ],
      "metadata": {
        "id": "xVDftMIxpxl4"
      }
    },
    {
      "cell_type": "code",
      "source": [
        "df['Who_completed_the_test'] = df['Who_completed_the_test'].str.lower().str.strip()\n",
        "df['Who_completed_the_test'] = df['Who_completed_the_test'].replace({\n",
        "    'family member': 'Family Member'\n",
        "})"
      ],
      "metadata": {
        "id": "g5bIPpDAopzN"
      },
      "execution_count": 27,
      "outputs": []
    },
    {
      "cell_type": "code",
      "source": [
        "print(df['Who_completed_the_test'].value_counts())"
      ],
      "metadata": {
        "colab": {
          "base_uri": "https://localhost:8080/"
        },
        "id": "viOEE2_7qkW1",
        "outputId": "e6464059-2ed9-4454-a4c0-2e53a94821e1"
      },
      "execution_count": 28,
      "outputs": [
        {
          "output_type": "stream",
          "name": "stdout",
          "text": [
            "Who_completed_the_test\n",
            "health care professional    1233\n",
            "Family Member                716\n",
            "school and ngo                29\n",
            "self                           4\n",
            "others                         3\n",
            "Name: count, dtype: int64\n"
          ]
        }
      ]
    },
    {
      "cell_type": "code",
      "source": [
        "# Define a threshold for grouping rare categories\n",
        "threshold = 100\n",
        "\n",
        "# Replace rare categories with 'Other'\n",
        "df['Who_completed_the_test'] = df['Who_completed_the_test'].apply(lambda x: x if df['Who_completed_the_test'].value_counts()[x] >= threshold else 'Other')"
      ],
      "metadata": {
        "id": "uvYTLvgFrQLT"
      },
      "execution_count": 29,
      "outputs": []
    },
    {
      "cell_type": "code",
      "source": [
        "print(df['Who_completed_the_test'].value_counts())"
      ],
      "metadata": {
        "colab": {
          "base_uri": "https://localhost:8080/"
        },
        "id": "iIi1X9hvrjtS",
        "outputId": "6b387513-cd50-48f4-cbf1-756d05301447"
      },
      "execution_count": 30,
      "outputs": [
        {
          "output_type": "stream",
          "name": "stdout",
          "text": [
            "Who_completed_the_test\n",
            "health care professional    1233\n",
            "Family Member                716\n",
            "Other                         36\n",
            "Name: count, dtype: int64\n"
          ]
        }
      ]
    },
    {
      "cell_type": "code",
      "source": [
        "# Fit and transform the 'Who_completed_the_test' column\n",
        "who_completed_encoded = encoder.fit_transform(df[['Who_completed_the_test']])\n",
        "\n",
        "# Convert the encoded data to a DataFrame\n",
        "who_completed_encoded_df = pd.DataFrame(who_completed_encoded, columns=encoder.get_feature_names_out(['Who_completed_the_test']))\n",
        "\n",
        "# Concatenate the encoded DataFrame with the original DataFrame and drop the original column\n",
        "df = pd.concat([df, who_completed_encoded_df], axis=1).drop(columns=['Who_completed_the_test'])\n",
        "\n",
        "# Display the updated DataFrame\n",
        "print(\"One-Hot Encoded Who_completed_the_test Data:\")\n",
        "print(df.head())"
      ],
      "metadata": {
        "colab": {
          "base_uri": "https://localhost:8080/"
        },
        "id": "_ODRocQnr438",
        "outputId": "7cf8488d-b382-4306-a481-c5c45efbb3c6"
      },
      "execution_count": 31,
      "outputs": [
        {
          "output_type": "stream",
          "name": "stdout",
          "text": [
            "One-Hot Encoded Who_completed_the_test Data:\n",
            "   A1  A2  A3  A4  A5  A6  A7  A8  A9  A10_Autism_Spectrum_Quotient  ...  \\\n",
            "0   0   0   0   0   0   0   1   1   0                             1  ...   \n",
            "1   1   1   0   0   0   1   1   0   0                             0  ...   \n",
            "2   1   0   0   0   0   0   1   1   0                             1  ...   \n",
            "3   1   1   1   1   1   1   1   1   1                             1  ...   \n",
            "4   1   1   0   1   1   1   1   1   1                             1  ...   \n",
            "\n",
            "   Jaundice  Family_mem_with_ASD  ASD_traits  Ethnicity_Black  \\\n",
            "0         1                    0           0              0.0   \n",
            "1         1                    0           1              0.0   \n",
            "2         1                    0           1              0.0   \n",
            "3         0                    0           1              0.0   \n",
            "4         0                    0           1              0.0   \n",
            "\n",
            "   Ethnicity_Middle Eastern  Ethnicity_Other  Ethnicity_South Asian  \\\n",
            "0                       1.0              0.0                    0.0   \n",
            "1                       0.0              0.0                    0.0   \n",
            "2                       1.0              0.0                    0.0   \n",
            "3                       0.0              1.0                    0.0   \n",
            "4                       0.0              0.0                    0.0   \n",
            "\n",
            "   Ethnicity_white european  Who_completed_the_test_Other  \\\n",
            "0                       0.0                           0.0   \n",
            "1                       1.0                           0.0   \n",
            "2                       0.0                           0.0   \n",
            "3                       0.0                           0.0   \n",
            "4                       1.0                           0.0   \n",
            "\n",
            "   Who_completed_the_test_health care professional  \n",
            "0                                              0.0  \n",
            "1                                              0.0  \n",
            "2                                              0.0  \n",
            "3                                              0.0  \n",
            "4                                              0.0  \n",
            "\n",
            "[5 rows x 32 columns]\n"
          ]
        }
      ]
    },
    {
      "cell_type": "code",
      "source": [
        "print(df.dtypes)"
      ],
      "metadata": {
        "colab": {
          "base_uri": "https://localhost:8080/"
        },
        "id": "zjz_zzaIslxo",
        "outputId": "85dfc8d6-42a8-4547-d4ad-2a8876eda81f"
      },
      "execution_count": 32,
      "outputs": [
        {
          "output_type": "stream",
          "name": "stdout",
          "text": [
            "A1                                                      int64\n",
            "A2                                                      int64\n",
            "A3                                                      int64\n",
            "A4                                                      int64\n",
            "A5                                                      int64\n",
            "A6                                                      int64\n",
            "A7                                                      int64\n",
            "A8                                                      int64\n",
            "A9                                                      int64\n",
            "A10_Autism_Spectrum_Quotient                            int64\n",
            "Social_Responsiveness_Scale                           float64\n",
            "Age_Years                                             float64\n",
            "Qchat_10_Score                                        float64\n",
            "Speech Delay/Language Disorder                          int64\n",
            "Learning disorder                                       int64\n",
            "Genetic_Disorders                                       int64\n",
            "Depression                                              int64\n",
            "Global developmental delay/intellectual disability      int64\n",
            "Social/Behavioural Issues                               int64\n",
            "Childhood Autism Rating Scale                           int64\n",
            "Anxiety_disorder                                        int64\n",
            "Sex                                                     int64\n",
            "Jaundice                                                int64\n",
            "Family_mem_with_ASD                                     int64\n",
            "ASD_traits                                              int64\n",
            "Ethnicity_Black                                       float64\n",
            "Ethnicity_Middle Eastern                              float64\n",
            "Ethnicity_Other                                       float64\n",
            "Ethnicity_South Asian                                 float64\n",
            "Ethnicity_white european                              float64\n",
            "Who_completed_the_test_Other                          float64\n",
            "Who_completed_the_test_health care professional       float64\n",
            "dtype: object\n"
          ]
        }
      ]
    },
    {
      "cell_type": "markdown",
      "source": [
        "# Check for Class Imbalance"
      ],
      "metadata": {
        "id": "GOYy-mTQtCrK"
      }
    },
    {
      "cell_type": "code",
      "source": [
        "class_counts = df['ASD_traits'].value_counts()\n",
        "print(\"Class Distribution:\")\n",
        "print(class_counts)\n",
        "\n",
        "# Calculate the percentage of each class\n",
        "class_percentages = df['ASD_traits'].value_counts(normalize=True) * 100\n",
        "print(\"\\nClass Percentages:\")\n",
        "print(class_percentages)\n",
        "\n",
        "# Determine if the dataset is imbalanced\n",
        "minority_percentage = min(class_percentages)\n",
        "if minority_percentage < 20:\n",
        "    if minority_percentage < 1:\n",
        "        print(\"\\nThe dataset has extreme imbalance.\")\n",
        "    else:\n",
        "        print(\"\\nThe dataset is moderately imbalanced.\")\n",
        "elif minority_percentage < 40:\n",
        "    print(\"\\nThe dataset has a mild imbalance.\")\n",
        "else:\n",
        "    print(\"\\nThe dataset is balanced.\")\n"
      ],
      "metadata": {
        "colab": {
          "base_uri": "https://localhost:8080/"
        },
        "id": "PIYiJZqetKLL",
        "outputId": "aba51e1d-4c15-4d65-b38b-87c2e0eac268"
      },
      "execution_count": 33,
      "outputs": [
        {
          "output_type": "stream",
          "name": "stdout",
          "text": [
            "Class Distribution:\n",
            "ASD_traits\n",
            "1    1074\n",
            "0     911\n",
            "Name: count, dtype: int64\n",
            "\n",
            "Class Percentages:\n",
            "ASD_traits\n",
            "1    54.105793\n",
            "0    45.894207\n",
            "Name: proportion, dtype: float64\n",
            "\n",
            "The dataset is balanced.\n"
          ]
        }
      ]
    },
    {
      "cell_type": "code",
      "source": [
        "# output_file_path = \"/content/drive/MyDrive/Colab Notebooks/data/preprocessed_asd_data.csv\"\n",
        "# df.to_csv(output_file_path, index=False)\n",
        "# print(f\"Preprocessed dataset saved to: {output_file_path}\")"
      ],
      "metadata": {
        "id": "iTV4vwvBtw_I"
      },
      "execution_count": 34,
      "outputs": []
    },
    {
      "cell_type": "code",
      "source": [
        "print(f\"Number of Instances: {df.shape[0]}\")"
      ],
      "metadata": {
        "colab": {
          "base_uri": "https://localhost:8080/"
        },
        "id": "3bP-41lYsJFU",
        "outputId": "fac1d35c-aa13-48bc-e1da-c7d59ccb7156"
      },
      "execution_count": 35,
      "outputs": [
        {
          "output_type": "stream",
          "name": "stdout",
          "text": [
            "Number of Instances: 1985\n"
          ]
        }
      ]
    },
    {
      "cell_type": "code",
      "source": [
        "from sklearn.model_selection import train_test_split\n",
        "X=df.drop(columns=['ASD_traits'])\n",
        "y=df['ASD_traits']\n",
        "X_train, X_test, y_train, y_test = train_test_split(X, y, test_size=0.2, random_state=42)"
      ],
      "metadata": {
        "id": "w6I9drCvcpKN"
      },
      "execution_count": 38,
      "outputs": []
    },
    {
      "cell_type": "code",
      "source": [
        "from sklearn.linear_model import LogisticRegression\n",
        "from sklearn.model_selection import GridSearchCV\n",
        "from sklearn.metrics import classification_report, confusion_matrix, accuracy_score"
      ],
      "metadata": {
        "id": "i5WGNgTaeVup"
      },
      "execution_count": 39,
      "outputs": []
    },
    {
      "cell_type": "code",
      "source": [
        "param_grid = {\n",
        "    'C': [0.01, 0.1, 1, 10, 100],\n",
        "    'penalty': ['l1', 'l2'],\n",
        "    'solver': ['liblinear']  # supports both 'l1' and 'l2'\n",
        "}"
      ],
      "metadata": {
        "id": "v6BAWRvtf_SC"
      },
      "execution_count": 43,
      "outputs": []
    },
    {
      "cell_type": "code",
      "source": [
        "log_reg = LogisticRegression(max_iter=1000)\n",
        "grid_search = GridSearchCV(log_reg, param_grid, cv=5, scoring='precision')\n",
        "grid_search.fit(X_train, y_train)"
      ],
      "metadata": {
        "colab": {
          "base_uri": "https://localhost:8080/",
          "height": 171
        },
        "id": "1UKEro4DhDru",
        "outputId": "a45b7d16-c417-4343-9bdb-48d872928811"
      },
      "execution_count": 44,
      "outputs": [
        {
          "output_type": "execute_result",
          "data": {
            "text/plain": [
              "GridSearchCV(cv=5, estimator=LogisticRegression(max_iter=1000),\n",
              "             param_grid={'C': [0.01, 0.1, 1, 10, 100], 'penalty': ['l1', 'l2'],\n",
              "                         'solver': ['liblinear']},\n",
              "             scoring='precision')"
            ],
            "text/html": [
              "<style>#sk-container-id-2 {\n",
              "  /* Definition of color scheme common for light and dark mode */\n",
              "  --sklearn-color-text: #000;\n",
              "  --sklearn-color-text-muted: #666;\n",
              "  --sklearn-color-line: gray;\n",
              "  /* Definition of color scheme for unfitted estimators */\n",
              "  --sklearn-color-unfitted-level-0: #fff5e6;\n",
              "  --sklearn-color-unfitted-level-1: #f6e4d2;\n",
              "  --sklearn-color-unfitted-level-2: #ffe0b3;\n",
              "  --sklearn-color-unfitted-level-3: chocolate;\n",
              "  /* Definition of color scheme for fitted estimators */\n",
              "  --sklearn-color-fitted-level-0: #f0f8ff;\n",
              "  --sklearn-color-fitted-level-1: #d4ebff;\n",
              "  --sklearn-color-fitted-level-2: #b3dbfd;\n",
              "  --sklearn-color-fitted-level-3: cornflowerblue;\n",
              "\n",
              "  /* Specific color for light theme */\n",
              "  --sklearn-color-text-on-default-background: var(--sg-text-color, var(--theme-code-foreground, var(--jp-content-font-color1, black)));\n",
              "  --sklearn-color-background: var(--sg-background-color, var(--theme-background, var(--jp-layout-color0, white)));\n",
              "  --sklearn-color-border-box: var(--sg-text-color, var(--theme-code-foreground, var(--jp-content-font-color1, black)));\n",
              "  --sklearn-color-icon: #696969;\n",
              "\n",
              "  @media (prefers-color-scheme: dark) {\n",
              "    /* Redefinition of color scheme for dark theme */\n",
              "    --sklearn-color-text-on-default-background: var(--sg-text-color, var(--theme-code-foreground, var(--jp-content-font-color1, white)));\n",
              "    --sklearn-color-background: var(--sg-background-color, var(--theme-background, var(--jp-layout-color0, #111)));\n",
              "    --sklearn-color-border-box: var(--sg-text-color, var(--theme-code-foreground, var(--jp-content-font-color1, white)));\n",
              "    --sklearn-color-icon: #878787;\n",
              "  }\n",
              "}\n",
              "\n",
              "#sk-container-id-2 {\n",
              "  color: var(--sklearn-color-text);\n",
              "}\n",
              "\n",
              "#sk-container-id-2 pre {\n",
              "  padding: 0;\n",
              "}\n",
              "\n",
              "#sk-container-id-2 input.sk-hidden--visually {\n",
              "  border: 0;\n",
              "  clip: rect(1px 1px 1px 1px);\n",
              "  clip: rect(1px, 1px, 1px, 1px);\n",
              "  height: 1px;\n",
              "  margin: -1px;\n",
              "  overflow: hidden;\n",
              "  padding: 0;\n",
              "  position: absolute;\n",
              "  width: 1px;\n",
              "}\n",
              "\n",
              "#sk-container-id-2 div.sk-dashed-wrapped {\n",
              "  border: 1px dashed var(--sklearn-color-line);\n",
              "  margin: 0 0.4em 0.5em 0.4em;\n",
              "  box-sizing: border-box;\n",
              "  padding-bottom: 0.4em;\n",
              "  background-color: var(--sklearn-color-background);\n",
              "}\n",
              "\n",
              "#sk-container-id-2 div.sk-container {\n",
              "  /* jupyter's `normalize.less` sets `[hidden] { display: none; }`\n",
              "     but bootstrap.min.css set `[hidden] { display: none !important; }`\n",
              "     so we also need the `!important` here to be able to override the\n",
              "     default hidden behavior on the sphinx rendered scikit-learn.org.\n",
              "     See: https://github.com/scikit-learn/scikit-learn/issues/21755 */\n",
              "  display: inline-block !important;\n",
              "  position: relative;\n",
              "}\n",
              "\n",
              "#sk-container-id-2 div.sk-text-repr-fallback {\n",
              "  display: none;\n",
              "}\n",
              "\n",
              "div.sk-parallel-item,\n",
              "div.sk-serial,\n",
              "div.sk-item {\n",
              "  /* draw centered vertical line to link estimators */\n",
              "  background-image: linear-gradient(var(--sklearn-color-text-on-default-background), var(--sklearn-color-text-on-default-background));\n",
              "  background-size: 2px 100%;\n",
              "  background-repeat: no-repeat;\n",
              "  background-position: center center;\n",
              "}\n",
              "\n",
              "/* Parallel-specific style estimator block */\n",
              "\n",
              "#sk-container-id-2 div.sk-parallel-item::after {\n",
              "  content: \"\";\n",
              "  width: 100%;\n",
              "  border-bottom: 2px solid var(--sklearn-color-text-on-default-background);\n",
              "  flex-grow: 1;\n",
              "}\n",
              "\n",
              "#sk-container-id-2 div.sk-parallel {\n",
              "  display: flex;\n",
              "  align-items: stretch;\n",
              "  justify-content: center;\n",
              "  background-color: var(--sklearn-color-background);\n",
              "  position: relative;\n",
              "}\n",
              "\n",
              "#sk-container-id-2 div.sk-parallel-item {\n",
              "  display: flex;\n",
              "  flex-direction: column;\n",
              "}\n",
              "\n",
              "#sk-container-id-2 div.sk-parallel-item:first-child::after {\n",
              "  align-self: flex-end;\n",
              "  width: 50%;\n",
              "}\n",
              "\n",
              "#sk-container-id-2 div.sk-parallel-item:last-child::after {\n",
              "  align-self: flex-start;\n",
              "  width: 50%;\n",
              "}\n",
              "\n",
              "#sk-container-id-2 div.sk-parallel-item:only-child::after {\n",
              "  width: 0;\n",
              "}\n",
              "\n",
              "/* Serial-specific style estimator block */\n",
              "\n",
              "#sk-container-id-2 div.sk-serial {\n",
              "  display: flex;\n",
              "  flex-direction: column;\n",
              "  align-items: center;\n",
              "  background-color: var(--sklearn-color-background);\n",
              "  padding-right: 1em;\n",
              "  padding-left: 1em;\n",
              "}\n",
              "\n",
              "\n",
              "/* Toggleable style: style used for estimator/Pipeline/ColumnTransformer box that is\n",
              "clickable and can be expanded/collapsed.\n",
              "- Pipeline and ColumnTransformer use this feature and define the default style\n",
              "- Estimators will overwrite some part of the style using the `sk-estimator` class\n",
              "*/\n",
              "\n",
              "/* Pipeline and ColumnTransformer style (default) */\n",
              "\n",
              "#sk-container-id-2 div.sk-toggleable {\n",
              "  /* Default theme specific background. It is overwritten whether we have a\n",
              "  specific estimator or a Pipeline/ColumnTransformer */\n",
              "  background-color: var(--sklearn-color-background);\n",
              "}\n",
              "\n",
              "/* Toggleable label */\n",
              "#sk-container-id-2 label.sk-toggleable__label {\n",
              "  cursor: pointer;\n",
              "  display: flex;\n",
              "  width: 100%;\n",
              "  margin-bottom: 0;\n",
              "  padding: 0.5em;\n",
              "  box-sizing: border-box;\n",
              "  text-align: center;\n",
              "  align-items: start;\n",
              "  justify-content: space-between;\n",
              "  gap: 0.5em;\n",
              "}\n",
              "\n",
              "#sk-container-id-2 label.sk-toggleable__label .caption {\n",
              "  font-size: 0.6rem;\n",
              "  font-weight: lighter;\n",
              "  color: var(--sklearn-color-text-muted);\n",
              "}\n",
              "\n",
              "#sk-container-id-2 label.sk-toggleable__label-arrow:before {\n",
              "  /* Arrow on the left of the label */\n",
              "  content: \"▸\";\n",
              "  float: left;\n",
              "  margin-right: 0.25em;\n",
              "  color: var(--sklearn-color-icon);\n",
              "}\n",
              "\n",
              "#sk-container-id-2 label.sk-toggleable__label-arrow:hover:before {\n",
              "  color: var(--sklearn-color-text);\n",
              "}\n",
              "\n",
              "/* Toggleable content - dropdown */\n",
              "\n",
              "#sk-container-id-2 div.sk-toggleable__content {\n",
              "  max-height: 0;\n",
              "  max-width: 0;\n",
              "  overflow: hidden;\n",
              "  text-align: left;\n",
              "  /* unfitted */\n",
              "  background-color: var(--sklearn-color-unfitted-level-0);\n",
              "}\n",
              "\n",
              "#sk-container-id-2 div.sk-toggleable__content.fitted {\n",
              "  /* fitted */\n",
              "  background-color: var(--sklearn-color-fitted-level-0);\n",
              "}\n",
              "\n",
              "#sk-container-id-2 div.sk-toggleable__content pre {\n",
              "  margin: 0.2em;\n",
              "  border-radius: 0.25em;\n",
              "  color: var(--sklearn-color-text);\n",
              "  /* unfitted */\n",
              "  background-color: var(--sklearn-color-unfitted-level-0);\n",
              "}\n",
              "\n",
              "#sk-container-id-2 div.sk-toggleable__content.fitted pre {\n",
              "  /* unfitted */\n",
              "  background-color: var(--sklearn-color-fitted-level-0);\n",
              "}\n",
              "\n",
              "#sk-container-id-2 input.sk-toggleable__control:checked~div.sk-toggleable__content {\n",
              "  /* Expand drop-down */\n",
              "  max-height: 200px;\n",
              "  max-width: 100%;\n",
              "  overflow: auto;\n",
              "}\n",
              "\n",
              "#sk-container-id-2 input.sk-toggleable__control:checked~label.sk-toggleable__label-arrow:before {\n",
              "  content: \"▾\";\n",
              "}\n",
              "\n",
              "/* Pipeline/ColumnTransformer-specific style */\n",
              "\n",
              "#sk-container-id-2 div.sk-label input.sk-toggleable__control:checked~label.sk-toggleable__label {\n",
              "  color: var(--sklearn-color-text);\n",
              "  background-color: var(--sklearn-color-unfitted-level-2);\n",
              "}\n",
              "\n",
              "#sk-container-id-2 div.sk-label.fitted input.sk-toggleable__control:checked~label.sk-toggleable__label {\n",
              "  background-color: var(--sklearn-color-fitted-level-2);\n",
              "}\n",
              "\n",
              "/* Estimator-specific style */\n",
              "\n",
              "/* Colorize estimator box */\n",
              "#sk-container-id-2 div.sk-estimator input.sk-toggleable__control:checked~label.sk-toggleable__label {\n",
              "  /* unfitted */\n",
              "  background-color: var(--sklearn-color-unfitted-level-2);\n",
              "}\n",
              "\n",
              "#sk-container-id-2 div.sk-estimator.fitted input.sk-toggleable__control:checked~label.sk-toggleable__label {\n",
              "  /* fitted */\n",
              "  background-color: var(--sklearn-color-fitted-level-2);\n",
              "}\n",
              "\n",
              "#sk-container-id-2 div.sk-label label.sk-toggleable__label,\n",
              "#sk-container-id-2 div.sk-label label {\n",
              "  /* The background is the default theme color */\n",
              "  color: var(--sklearn-color-text-on-default-background);\n",
              "}\n",
              "\n",
              "/* On hover, darken the color of the background */\n",
              "#sk-container-id-2 div.sk-label:hover label.sk-toggleable__label {\n",
              "  color: var(--sklearn-color-text);\n",
              "  background-color: var(--sklearn-color-unfitted-level-2);\n",
              "}\n",
              "\n",
              "/* Label box, darken color on hover, fitted */\n",
              "#sk-container-id-2 div.sk-label.fitted:hover label.sk-toggleable__label.fitted {\n",
              "  color: var(--sklearn-color-text);\n",
              "  background-color: var(--sklearn-color-fitted-level-2);\n",
              "}\n",
              "\n",
              "/* Estimator label */\n",
              "\n",
              "#sk-container-id-2 div.sk-label label {\n",
              "  font-family: monospace;\n",
              "  font-weight: bold;\n",
              "  display: inline-block;\n",
              "  line-height: 1.2em;\n",
              "}\n",
              "\n",
              "#sk-container-id-2 div.sk-label-container {\n",
              "  text-align: center;\n",
              "}\n",
              "\n",
              "/* Estimator-specific */\n",
              "#sk-container-id-2 div.sk-estimator {\n",
              "  font-family: monospace;\n",
              "  border: 1px dotted var(--sklearn-color-border-box);\n",
              "  border-radius: 0.25em;\n",
              "  box-sizing: border-box;\n",
              "  margin-bottom: 0.5em;\n",
              "  /* unfitted */\n",
              "  background-color: var(--sklearn-color-unfitted-level-0);\n",
              "}\n",
              "\n",
              "#sk-container-id-2 div.sk-estimator.fitted {\n",
              "  /* fitted */\n",
              "  background-color: var(--sklearn-color-fitted-level-0);\n",
              "}\n",
              "\n",
              "/* on hover */\n",
              "#sk-container-id-2 div.sk-estimator:hover {\n",
              "  /* unfitted */\n",
              "  background-color: var(--sklearn-color-unfitted-level-2);\n",
              "}\n",
              "\n",
              "#sk-container-id-2 div.sk-estimator.fitted:hover {\n",
              "  /* fitted */\n",
              "  background-color: var(--sklearn-color-fitted-level-2);\n",
              "}\n",
              "\n",
              "/* Specification for estimator info (e.g. \"i\" and \"?\") */\n",
              "\n",
              "/* Common style for \"i\" and \"?\" */\n",
              "\n",
              ".sk-estimator-doc-link,\n",
              "a:link.sk-estimator-doc-link,\n",
              "a:visited.sk-estimator-doc-link {\n",
              "  float: right;\n",
              "  font-size: smaller;\n",
              "  line-height: 1em;\n",
              "  font-family: monospace;\n",
              "  background-color: var(--sklearn-color-background);\n",
              "  border-radius: 1em;\n",
              "  height: 1em;\n",
              "  width: 1em;\n",
              "  text-decoration: none !important;\n",
              "  margin-left: 0.5em;\n",
              "  text-align: center;\n",
              "  /* unfitted */\n",
              "  border: var(--sklearn-color-unfitted-level-1) 1pt solid;\n",
              "  color: var(--sklearn-color-unfitted-level-1);\n",
              "}\n",
              "\n",
              ".sk-estimator-doc-link.fitted,\n",
              "a:link.sk-estimator-doc-link.fitted,\n",
              "a:visited.sk-estimator-doc-link.fitted {\n",
              "  /* fitted */\n",
              "  border: var(--sklearn-color-fitted-level-1) 1pt solid;\n",
              "  color: var(--sklearn-color-fitted-level-1);\n",
              "}\n",
              "\n",
              "/* On hover */\n",
              "div.sk-estimator:hover .sk-estimator-doc-link:hover,\n",
              ".sk-estimator-doc-link:hover,\n",
              "div.sk-label-container:hover .sk-estimator-doc-link:hover,\n",
              ".sk-estimator-doc-link:hover {\n",
              "  /* unfitted */\n",
              "  background-color: var(--sklearn-color-unfitted-level-3);\n",
              "  color: var(--sklearn-color-background);\n",
              "  text-decoration: none;\n",
              "}\n",
              "\n",
              "div.sk-estimator.fitted:hover .sk-estimator-doc-link.fitted:hover,\n",
              ".sk-estimator-doc-link.fitted:hover,\n",
              "div.sk-label-container:hover .sk-estimator-doc-link.fitted:hover,\n",
              ".sk-estimator-doc-link.fitted:hover {\n",
              "  /* fitted */\n",
              "  background-color: var(--sklearn-color-fitted-level-3);\n",
              "  color: var(--sklearn-color-background);\n",
              "  text-decoration: none;\n",
              "}\n",
              "\n",
              "/* Span, style for the box shown on hovering the info icon */\n",
              ".sk-estimator-doc-link span {\n",
              "  display: none;\n",
              "  z-index: 9999;\n",
              "  position: relative;\n",
              "  font-weight: normal;\n",
              "  right: .2ex;\n",
              "  padding: .5ex;\n",
              "  margin: .5ex;\n",
              "  width: min-content;\n",
              "  min-width: 20ex;\n",
              "  max-width: 50ex;\n",
              "  color: var(--sklearn-color-text);\n",
              "  box-shadow: 2pt 2pt 4pt #999;\n",
              "  /* unfitted */\n",
              "  background: var(--sklearn-color-unfitted-level-0);\n",
              "  border: .5pt solid var(--sklearn-color-unfitted-level-3);\n",
              "}\n",
              "\n",
              ".sk-estimator-doc-link.fitted span {\n",
              "  /* fitted */\n",
              "  background: var(--sklearn-color-fitted-level-0);\n",
              "  border: var(--sklearn-color-fitted-level-3);\n",
              "}\n",
              "\n",
              ".sk-estimator-doc-link:hover span {\n",
              "  display: block;\n",
              "}\n",
              "\n",
              "/* \"?\"-specific style due to the `<a>` HTML tag */\n",
              "\n",
              "#sk-container-id-2 a.estimator_doc_link {\n",
              "  float: right;\n",
              "  font-size: 1rem;\n",
              "  line-height: 1em;\n",
              "  font-family: monospace;\n",
              "  background-color: var(--sklearn-color-background);\n",
              "  border-radius: 1rem;\n",
              "  height: 1rem;\n",
              "  width: 1rem;\n",
              "  text-decoration: none;\n",
              "  /* unfitted */\n",
              "  color: var(--sklearn-color-unfitted-level-1);\n",
              "  border: var(--sklearn-color-unfitted-level-1) 1pt solid;\n",
              "}\n",
              "\n",
              "#sk-container-id-2 a.estimator_doc_link.fitted {\n",
              "  /* fitted */\n",
              "  border: var(--sklearn-color-fitted-level-1) 1pt solid;\n",
              "  color: var(--sklearn-color-fitted-level-1);\n",
              "}\n",
              "\n",
              "/* On hover */\n",
              "#sk-container-id-2 a.estimator_doc_link:hover {\n",
              "  /* unfitted */\n",
              "  background-color: var(--sklearn-color-unfitted-level-3);\n",
              "  color: var(--sklearn-color-background);\n",
              "  text-decoration: none;\n",
              "}\n",
              "\n",
              "#sk-container-id-2 a.estimator_doc_link.fitted:hover {\n",
              "  /* fitted */\n",
              "  background-color: var(--sklearn-color-fitted-level-3);\n",
              "}\n",
              "</style><div id=\"sk-container-id-2\" class=\"sk-top-container\"><div class=\"sk-text-repr-fallback\"><pre>GridSearchCV(cv=5, estimator=LogisticRegression(max_iter=1000),\n",
              "             param_grid={&#x27;C&#x27;: [0.01, 0.1, 1, 10, 100], &#x27;penalty&#x27;: [&#x27;l1&#x27;, &#x27;l2&#x27;],\n",
              "                         &#x27;solver&#x27;: [&#x27;liblinear&#x27;]},\n",
              "             scoring=&#x27;precision&#x27;)</pre><b>In a Jupyter environment, please rerun this cell to show the HTML representation or trust the notebook. <br />On GitHub, the HTML representation is unable to render, please try loading this page with nbviewer.org.</b></div><div class=\"sk-container\" hidden><div class=\"sk-item sk-dashed-wrapped\"><div class=\"sk-label-container\"><div class=\"sk-label fitted sk-toggleable\"><input class=\"sk-toggleable__control sk-hidden--visually\" id=\"sk-estimator-id-4\" type=\"checkbox\" ><label for=\"sk-estimator-id-4\" class=\"sk-toggleable__label fitted sk-toggleable__label-arrow\"><div><div>GridSearchCV</div></div><div><a class=\"sk-estimator-doc-link fitted\" rel=\"noreferrer\" target=\"_blank\" href=\"https://scikit-learn.org/1.6/modules/generated/sklearn.model_selection.GridSearchCV.html\">?<span>Documentation for GridSearchCV</span></a><span class=\"sk-estimator-doc-link fitted\">i<span>Fitted</span></span></div></label><div class=\"sk-toggleable__content fitted\"><pre>GridSearchCV(cv=5, estimator=LogisticRegression(max_iter=1000),\n",
              "             param_grid={&#x27;C&#x27;: [0.01, 0.1, 1, 10, 100], &#x27;penalty&#x27;: [&#x27;l1&#x27;, &#x27;l2&#x27;],\n",
              "                         &#x27;solver&#x27;: [&#x27;liblinear&#x27;]},\n",
              "             scoring=&#x27;precision&#x27;)</pre></div> </div></div><div class=\"sk-parallel\"><div class=\"sk-parallel-item\"><div class=\"sk-item\"><div class=\"sk-label-container\"><div class=\"sk-label fitted sk-toggleable\"><input class=\"sk-toggleable__control sk-hidden--visually\" id=\"sk-estimator-id-5\" type=\"checkbox\" ><label for=\"sk-estimator-id-5\" class=\"sk-toggleable__label fitted sk-toggleable__label-arrow\"><div><div>best_estimator_: LogisticRegression</div></div></label><div class=\"sk-toggleable__content fitted\"><pre>LogisticRegression(C=100, max_iter=1000, penalty=&#x27;l1&#x27;, solver=&#x27;liblinear&#x27;)</pre></div> </div></div><div class=\"sk-serial\"><div class=\"sk-item\"><div class=\"sk-estimator fitted sk-toggleable\"><input class=\"sk-toggleable__control sk-hidden--visually\" id=\"sk-estimator-id-6\" type=\"checkbox\" ><label for=\"sk-estimator-id-6\" class=\"sk-toggleable__label fitted sk-toggleable__label-arrow\"><div><div>LogisticRegression</div></div><div><a class=\"sk-estimator-doc-link fitted\" rel=\"noreferrer\" target=\"_blank\" href=\"https://scikit-learn.org/1.6/modules/generated/sklearn.linear_model.LogisticRegression.html\">?<span>Documentation for LogisticRegression</span></a></div></label><div class=\"sk-toggleable__content fitted\"><pre>LogisticRegression(C=100, max_iter=1000, penalty=&#x27;l1&#x27;, solver=&#x27;liblinear&#x27;)</pre></div> </div></div></div></div></div></div></div></div></div>"
            ]
          },
          "metadata": {},
          "execution_count": 44
        }
      ]
    },
    {
      "cell_type": "code",
      "source": [
        "best_logreg = grid_search.best_estimator_\n",
        "y_pred = best_logreg.predict(X_test)\n",
        "\n",
        "print(\"Best Parameters:\", grid_search.best_params_)\n",
        "print(\"Train Accuracy:\", best_logreg.score(X_train, y_train))\n",
        "print(\"Test Accuracy:\", accuracy_score(y_test, y_pred))\n",
        "print(\"Confusion Matrix:\\n\", confusion_matrix(y_test, y_pred))\n",
        "print(\"Classification Report:\\n\", classification_report(y_test, y_pred))"
      ],
      "metadata": {
        "colab": {
          "base_uri": "https://localhost:8080/"
        },
        "id": "z3s9YsdoouVe",
        "outputId": "48aa0668-e026-430a-d8ad-7d1dda648986"
      },
      "execution_count": 45,
      "outputs": [
        {
          "output_type": "stream",
          "name": "stdout",
          "text": [
            "Best Parameters: {'C': 100, 'penalty': 'l1', 'solver': 'liblinear'}\n",
            "Train Accuracy: 0.9949622166246851\n",
            "Test Accuracy: 0.9798488664987406\n",
            "Confusion Matrix:\n",
            " [[190   6]\n",
            " [  2 199]]\n",
            "Classification Report:\n",
            "               precision    recall  f1-score   support\n",
            "\n",
            "           0       0.99      0.97      0.98       196\n",
            "           1       0.97      0.99      0.98       201\n",
            "\n",
            "    accuracy                           0.98       397\n",
            "   macro avg       0.98      0.98      0.98       397\n",
            "weighted avg       0.98      0.98      0.98       397\n",
            "\n"
          ]
        }
      ]
    },
    {
      "cell_type": "markdown",
      "source": [
        "**Conclusion**"
      ],
      "metadata": {
        "id": "Bj1lSlSmp33q"
      }
    },
    {
      "cell_type": "markdown",
      "source": [
        "The Logistic Regression model, optimized using Grid Search, achieved strong performance on both training and test sets with the following configuration:\n",
        "\n",
        "Best Hyperparameters: C=100, penalty='l1', solver='liblinear'\n",
        "\n",
        "Train Accuracy: 99.5%\n",
        "\n",
        "Test Accuracy: 97.98%\n",
        "\n",
        "Precision (Class 1): 0.97\n",
        "\n",
        "Recall (Class 1): 0.99\n",
        "\n",
        "F1 Score (Class 1): 0.98\n",
        "\n",
        "The confusion matrix shows only 8 total misclassifications out of 397 instances:\n",
        "\n",
        "6 false positives (predicted ASD, actually not)\n",
        "\n",
        "2 false negatives (missed ASD)\n",
        "\n",
        "Interpretation\n",
        "This model demonstrates excellent generalization, with balanced precision and recall, making it a strong candidate for ASD classification. Its high precision ensures that false positives (misdiagnosing healthy individuals) are rare, which is especially valuable in clinical applications.\n",
        "\n",
        "Let me know if you'd like this included in a report or visual comparison with SVM results!"
      ],
      "metadata": {
        "id": "i_ul19XHp8cE"
      }
    }
  ]
}